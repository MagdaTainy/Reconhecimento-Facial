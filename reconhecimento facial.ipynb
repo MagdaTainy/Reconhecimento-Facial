{
 "cells": [
  {
   "cell_type": "code",
   "execution_count": null,
   "id": "f02f7807",
   "metadata": {},
   "outputs": [],
   "source": [
    "#pip install cmake\n",
    "#pip install dlib-19.23.0-cp39-cp39-win_amd64.whl\n",
    "#pip install opencv-python\n",
    "#pip install face_recognition"
   ]
  },
  {
   "cell_type": "code",
   "execution_count": null,
   "id": "ea481207",
   "metadata": {},
   "outputs": [],
   "source": [
    "#https://pypi.org/project/face-recognition/"
   ]
  },
  {
   "cell_type": "code",
   "execution_count": 4,
   "id": "f69eaafa",
   "metadata": {},
   "outputs": [],
   "source": [
    "import cv2\n",
    "import face_recognition\n",
    "import numpy as np\n",
    "\n",
    "# Carregar as imagens de treinamento e rotulá-las\n",
    "def load_images_and_labels(image_paths, labels):\n",
    "    encodings = []\n",
    "    for image_path, label in zip(image_paths, labels):\n",
    "        image = face_recognition.load_image_file(image_path)\n",
    "        encoding = face_recognition.face_encodings(image)[0]\n",
    "        encodings.append((encoding, label))\n",
    "    return encodings\n",
    "\n",
    "image_paths = [\"C:/Users/Magda/Downloads/eu.jpg\", \n",
    "               \"C:/Users/Magda/Downloads/selfie_mae.jpeg\",\n",
    "               \"C:/Users/Magda/Downloads/fotos_turma/bruna.png\",\n",
    "               \"C:/Users/Magda/Downloads/fotos_turma/eliane.png\",\n",
    "               \"C:/Users/Magda/Downloads/fotos_turma/janaina.png\"]\n",
    "\n",
    "labels = [\"Tainy\", \"Tania\",\"Bruna\",\"Eliane\",\"Janaina\"]\n",
    "\n",
    "known_encodings = load_images_and_labels(image_paths, labels)\n",
    "\n",
    "video_capture = cv2.VideoCapture(0)\n",
    "\n",
    "while True:\n",
    "    ret, frame = video_capture.read()\n",
    "    rgb_frame = frame[:, :, ::-1]\n",
    "    \n",
    "    face_locations = face_recognition.face_locations(rgb_frame)\n",
    "    face_encodings = face_recognition.face_encodings(rgb_frame, face_locations)\n",
    "\n",
    "    for face_encoding, face_location in zip(face_encodings, face_locations):\n",
    "        matches = face_recognition.compare_faces([enc[0] for enc in known_encodings], face_encoding)\n",
    "        name = \"Desconhecido\"\n",
    "\n",
    "        face_distances = face_recognition.face_distance([enc[0] for enc in known_encodings], face_encoding)\n",
    "        best_match_index = np.argmin(face_distances)\n",
    "\n",
    "        if matches[best_match_index]:\n",
    "            name = known_encodings[best_match_index][1]\n",
    "        \n",
    "        top, right, bottom, left = face_location\n",
    "        cv2.rectangle(frame, (left, top), (right, bottom), (0, 0, 255), 2)\n",
    "        cv2.putText(frame, name, (left + 6, bottom - 6), cv2.FONT_HERSHEY_DUPLEX, 0.5, (255, 255, 255), 1)\n",
    "    \n",
    "    cv2.imshow('Video', frame)\n",
    "\n",
    "    # Pressione 'q' para sair do loop\n",
    "    if cv2.waitKey(1) & 0xFF == ord('q'):\n",
    "        break\n",
    "\n",
    "video_capture.release()\n",
    "cv2.destroyAllWindows()\n"
   ]
  }
 ],
 "metadata": {
  "kernelspec": {
   "display_name": "Python 3 (ipykernel)",
   "language": "python",
   "name": "python3"
  },
  "language_info": {
   "codemirror_mode": {
    "name": "ipython",
    "version": 3
   },
   "file_extension": ".py",
   "mimetype": "text/x-python",
   "name": "python",
   "nbconvert_exporter": "python",
   "pygments_lexer": "ipython3",
   "version": "3.9.17"
  }
 },
 "nbformat": 4,
 "nbformat_minor": 5
}
